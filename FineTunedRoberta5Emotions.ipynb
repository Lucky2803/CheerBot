{
  "cells": [
    {
      "cell_type": "code",
      "source": [
        "#START FROM HERE"
      ],
      "metadata": {
        "id": "6X7-Eiaeo6dc"
      },
      "execution_count": null,
      "outputs": []
    },
    {
      "cell_type": "code",
      "source": [
        "import nltk\n",
        "nltk.download('punkt')\n",
        "nltk.download('wordnet')\n",
        "\n"
      ],
      "metadata": {
        "colab": {
          "base_uri": "https://localhost:8080/"
        },
        "id": "Vw4jPkku_dvV",
        "outputId": "c3c3ec94-0008-45ec-fcf0-331fdedb85a5"
      },
      "execution_count": null,
      "outputs": [
        {
          "output_type": "stream",
          "name": "stderr",
          "text": [
            "[nltk_data] Downloading package punkt to /root/nltk_data...\n",
            "[nltk_data]   Unzipping tokenizers/punkt.zip.\n",
            "[nltk_data] Downloading package wordnet to /root/nltk_data...\n"
          ]
        },
        {
          "output_type": "execute_result",
          "data": {
            "text/plain": [
              "True"
            ]
          },
          "metadata": {},
          "execution_count": 1
        }
      ]
    },
    {
      "cell_type": "code",
      "source": [
        "from google.colab import drive\n",
        "drive.mount('/content/gdrive')"
      ],
      "metadata": {
        "colab": {
          "base_uri": "https://localhost:8080/"
        },
        "id": "80ULsa02pNxR",
        "outputId": "11c50949-e0c0-4ece-faa0-51c5335cb648"
      },
      "execution_count": null,
      "outputs": [
        {
          "output_type": "stream",
          "name": "stdout",
          "text": [
            "Mounted at /content/gdrive\n"
          ]
        }
      ]
    },
    {
      "cell_type": "code",
      "source": [
        "import pandas as pd\n",
        "import nltk\n",
        "from nltk.stem import PorterStemmer\n",
        "\n",
        "# Load the CSV file into a Pandas dataframe\n",
        "df = pd.read_csv('/content/gdrive/MyDrive/EXAM EMOTIONS MODEL/Train.csv')"
      ],
      "metadata": {
        "id": "65bwg8SG98Qs"
      },
      "execution_count": null,
      "outputs": []
    },
    {
      "cell_type": "code",
      "source": [
        "#preprocess\n",
        "df"
      ],
      "metadata": {
        "colab": {
          "base_uri": "https://localhost:8080/",
          "height": 424
        },
        "id": "bjuDy3wTAHnM",
        "outputId": "909b6e88-5b40-4c2c-c8c3-b50120632927"
      },
      "execution_count": null,
      "outputs": [
        {
          "output_type": "execute_result",
          "data": {
            "text/plain": [
              "                                                   Text   Emotion\n",
              "0           I'm so cross I got a poor grade on the quiz     Anger\n",
              "1         I'm so upset I couldn't do better on the exam     Anger\n",
              "2     I'm so mad I didn't get the marks I was hoping...     Anger\n",
              "3                I'm so furious I couldn't ace the test     Anger\n",
              "4        I'm so irate I got a lower grade than I wanted     Anger\n",
              "...                                                 ...       ...\n",
              "1180  I'm elated that I passed the exam and can now ...     happy\n",
              "1181  I'm disheartened that I didn't get the score I...       sad\n",
              "1182  I'm scared that I won't be able to finish the ...      fear\n",
              "1183  I'm stunned that I got a higher score on the e...  surprise\n",
              "1184  I'm irritated that the exam questions didn't c...     anger\n",
              "\n",
              "[1185 rows x 2 columns]"
            ],
            "text/html": [
              "\n",
              "  <div id=\"df-3165c719-4172-41e2-89c6-812b334318a8\">\n",
              "    <div class=\"colab-df-container\">\n",
              "      <div>\n",
              "<style scoped>\n",
              "    .dataframe tbody tr th:only-of-type {\n",
              "        vertical-align: middle;\n",
              "    }\n",
              "\n",
              "    .dataframe tbody tr th {\n",
              "        vertical-align: top;\n",
              "    }\n",
              "\n",
              "    .dataframe thead th {\n",
              "        text-align: right;\n",
              "    }\n",
              "</style>\n",
              "<table border=\"1\" class=\"dataframe\">\n",
              "  <thead>\n",
              "    <tr style=\"text-align: right;\">\n",
              "      <th></th>\n",
              "      <th>Text</th>\n",
              "      <th>Emotion</th>\n",
              "    </tr>\n",
              "  </thead>\n",
              "  <tbody>\n",
              "    <tr>\n",
              "      <th>0</th>\n",
              "      <td>I'm so cross I got a poor grade on the quiz</td>\n",
              "      <td>Anger</td>\n",
              "    </tr>\n",
              "    <tr>\n",
              "      <th>1</th>\n",
              "      <td>I'm so upset I couldn't do better on the exam</td>\n",
              "      <td>Anger</td>\n",
              "    </tr>\n",
              "    <tr>\n",
              "      <th>2</th>\n",
              "      <td>I'm so mad I didn't get the marks I was hoping...</td>\n",
              "      <td>Anger</td>\n",
              "    </tr>\n",
              "    <tr>\n",
              "      <th>3</th>\n",
              "      <td>I'm so furious I couldn't ace the test</td>\n",
              "      <td>Anger</td>\n",
              "    </tr>\n",
              "    <tr>\n",
              "      <th>4</th>\n",
              "      <td>I'm so irate I got a lower grade than I wanted</td>\n",
              "      <td>Anger</td>\n",
              "    </tr>\n",
              "    <tr>\n",
              "      <th>...</th>\n",
              "      <td>...</td>\n",
              "      <td>...</td>\n",
              "    </tr>\n",
              "    <tr>\n",
              "      <th>1180</th>\n",
              "      <td>I'm elated that I passed the exam and can now ...</td>\n",
              "      <td>happy</td>\n",
              "    </tr>\n",
              "    <tr>\n",
              "      <th>1181</th>\n",
              "      <td>I'm disheartened that I didn't get the score I...</td>\n",
              "      <td>sad</td>\n",
              "    </tr>\n",
              "    <tr>\n",
              "      <th>1182</th>\n",
              "      <td>I'm scared that I won't be able to finish the ...</td>\n",
              "      <td>fear</td>\n",
              "    </tr>\n",
              "    <tr>\n",
              "      <th>1183</th>\n",
              "      <td>I'm stunned that I got a higher score on the e...</td>\n",
              "      <td>surprise</td>\n",
              "    </tr>\n",
              "    <tr>\n",
              "      <th>1184</th>\n",
              "      <td>I'm irritated that the exam questions didn't c...</td>\n",
              "      <td>anger</td>\n",
              "    </tr>\n",
              "  </tbody>\n",
              "</table>\n",
              "<p>1185 rows × 2 columns</p>\n",
              "</div>\n",
              "      <button class=\"colab-df-convert\" onclick=\"convertToInteractive('df-3165c719-4172-41e2-89c6-812b334318a8')\"\n",
              "              title=\"Convert this dataframe to an interactive table.\"\n",
              "              style=\"display:none;\">\n",
              "        \n",
              "  <svg xmlns=\"http://www.w3.org/2000/svg\" height=\"24px\"viewBox=\"0 0 24 24\"\n",
              "       width=\"24px\">\n",
              "    <path d=\"M0 0h24v24H0V0z\" fill=\"none\"/>\n",
              "    <path d=\"M18.56 5.44l.94 2.06.94-2.06 2.06-.94-2.06-.94-.94-2.06-.94 2.06-2.06.94zm-11 1L8.5 8.5l.94-2.06 2.06-.94-2.06-.94L8.5 2.5l-.94 2.06-2.06.94zm10 10l.94 2.06.94-2.06 2.06-.94-2.06-.94-.94-2.06-.94 2.06-2.06.94z\"/><path d=\"M17.41 7.96l-1.37-1.37c-.4-.4-.92-.59-1.43-.59-.52 0-1.04.2-1.43.59L10.3 9.45l-7.72 7.72c-.78.78-.78 2.05 0 2.83L4 21.41c.39.39.9.59 1.41.59.51 0 1.02-.2 1.41-.59l7.78-7.78 2.81-2.81c.8-.78.8-2.07 0-2.86zM5.41 20L4 18.59l7.72-7.72 1.47 1.35L5.41 20z\"/>\n",
              "  </svg>\n",
              "      </button>\n",
              "      \n",
              "  <style>\n",
              "    .colab-df-container {\n",
              "      display:flex;\n",
              "      flex-wrap:wrap;\n",
              "      gap: 12px;\n",
              "    }\n",
              "\n",
              "    .colab-df-convert {\n",
              "      background-color: #E8F0FE;\n",
              "      border: none;\n",
              "      border-radius: 50%;\n",
              "      cursor: pointer;\n",
              "      display: none;\n",
              "      fill: #1967D2;\n",
              "      height: 32px;\n",
              "      padding: 0 0 0 0;\n",
              "      width: 32px;\n",
              "    }\n",
              "\n",
              "    .colab-df-convert:hover {\n",
              "      background-color: #E2EBFA;\n",
              "      box-shadow: 0px 1px 2px rgba(60, 64, 67, 0.3), 0px 1px 3px 1px rgba(60, 64, 67, 0.15);\n",
              "      fill: #174EA6;\n",
              "    }\n",
              "\n",
              "    [theme=dark] .colab-df-convert {\n",
              "      background-color: #3B4455;\n",
              "      fill: #D2E3FC;\n",
              "    }\n",
              "\n",
              "    [theme=dark] .colab-df-convert:hover {\n",
              "      background-color: #434B5C;\n",
              "      box-shadow: 0px 1px 3px 1px rgba(0, 0, 0, 0.15);\n",
              "      filter: drop-shadow(0px 1px 2px rgba(0, 0, 0, 0.3));\n",
              "      fill: #FFFFFF;\n",
              "    }\n",
              "  </style>\n",
              "\n",
              "      <script>\n",
              "        const buttonEl =\n",
              "          document.querySelector('#df-3165c719-4172-41e2-89c6-812b334318a8 button.colab-df-convert');\n",
              "        buttonEl.style.display =\n",
              "          google.colab.kernel.accessAllowed ? 'block' : 'none';\n",
              "\n",
              "        async function convertToInteractive(key) {\n",
              "          const element = document.querySelector('#df-3165c719-4172-41e2-89c6-812b334318a8');\n",
              "          const dataTable =\n",
              "            await google.colab.kernel.invokeFunction('convertToInteractive',\n",
              "                                                     [key], {});\n",
              "          if (!dataTable) return;\n",
              "\n",
              "          const docLinkHtml = 'Like what you see? Visit the ' +\n",
              "            '<a target=\"_blank\" href=https://colab.research.google.com/notebooks/data_table.ipynb>data table notebook</a>'\n",
              "            + ' to learn more about interactive tables.';\n",
              "          element.innerHTML = '';\n",
              "          dataTable['output_type'] = 'display_data';\n",
              "          await google.colab.output.renderOutput(dataTable, element);\n",
              "          const docLink = document.createElement('div');\n",
              "          docLink.innerHTML = docLinkHtml;\n",
              "          element.appendChild(docLink);\n",
              "        }\n",
              "      </script>\n",
              "    </div>\n",
              "  </div>\n",
              "  "
            ]
          },
          "metadata": {},
          "execution_count": 40
        }
      ]
    },
    {
      "cell_type": "code",
      "source": [
        "\n",
        "# Initialize the stemmer\n",
        "stemmer = PorterStemmer()\n",
        "\n",
        "# Define a function to stem a given string\n",
        "def stem_text(text):\n",
        "    words = nltk.word_tokenize(text)\n",
        "    return ' '.join([stemmer.stem(w) for w in words])\n",
        "\n",
        "# Loop over the 'emotion' column and apply stemming to each string\n",
        "for i in range(len(df)):\n",
        "    text = str(df['Emotion'][i])\n",
        "    df.at[i, 'Emotion'] = stem_text(text)\n",
        "\n",
        "# df = df.drop('label', axis = 1)\n",
        "# df\n"
      ],
      "metadata": {
        "id": "Gbc4mVIroqoz"
      },
      "execution_count": null,
      "outputs": []
    },
    {
      "cell_type": "code",
      "source": [
        "print(df['Emotion'].unique())"
      ],
      "metadata": {
        "colab": {
          "base_uri": "https://localhost:8080/"
        },
        "id": "dhkg_0KWHWEL",
        "outputId": "7a1e3bed-6820-4475-e400-5df390b8133f"
      },
      "execution_count": null,
      "outputs": [
        {
          "output_type": "stream",
          "name": "stdout",
          "text": [
            "['anger' 'surpris' 'sad' 'happi' 'nan' 'fear' 'sad .' 'anfer']\n"
          ]
        }
      ]
    },
    {
      "cell_type": "code",
      "source": [
        "# replace \"anfer\" with \"anger\" and \"sad .\" with \"sad\"\n",
        "df['Emotion'] = df['Emotion'].replace({'anfer': 'anger', 'sad .': 'sad'})\n",
        "\n",
        "# print the updated DataFrame\n",
        "print(df['Emotion'].unique())"
      ],
      "metadata": {
        "colab": {
          "base_uri": "https://localhost:8080/"
        },
        "id": "AN9gheSdCWws",
        "outputId": "3e69ccf7-ae41-497b-eb77-69c4e23278f2"
      },
      "execution_count": null,
      "outputs": [
        {
          "output_type": "stream",
          "name": "stdout",
          "text": [
            "['anger' 'surpris' 'sad' 'happi' 'nan' 'fear']\n"
          ]
        }
      ]
    },
    {
      "cell_type": "code",
      "source": [],
      "metadata": {
        "id": "6mw-IsvnCAxT"
      },
      "execution_count": null,
      "outputs": []
    },
    {
      "cell_type": "code",
      "source": [
        "# Create a dictionary to map emotions to labels\n",
        "emotion_labels = {'happi': 1, 'sad': 2, 'anger': 3, 'fear': 4, 'surpris': 0}\n",
        "\n",
        "# Map the emotions to labels\n",
        "df['label'] = df['Emotion'].map(emotion_labels)\n",
        "\n",
        "# Drop rows with invalid emotions\n",
        "valid_emotions = list(emotion_labels.keys())\n",
        "df = df[df['Emotion'].isin(valid_emotions)]\n",
        "\n",
        "# Drop the 'emotion' column\n",
        "df = df.drop('Emotion', axis=1)\n",
        "\n",
        "# Print the resulting dataframe\n",
        "df\n"
      ],
      "metadata": {
        "colab": {
          "base_uri": "https://localhost:8080/",
          "height": 424
        },
        "id": "uwCD6UQCHrCg",
        "outputId": "ebcd73d7-4490-4338-a954-2ad03e26abc9"
      },
      "execution_count": null,
      "outputs": [
        {
          "output_type": "execute_result",
          "data": {
            "text/plain": [
              "                                                   Text  label\n",
              "0           I'm so cross I got a poor grade on the quiz    3.0\n",
              "1         I'm so upset I couldn't do better on the exam    3.0\n",
              "2     I'm so mad I didn't get the marks I was hoping...    3.0\n",
              "3                I'm so furious I couldn't ace the test    3.0\n",
              "4        I'm so irate I got a lower grade than I wanted    3.0\n",
              "...                                                 ...    ...\n",
              "1180  I'm elated that I passed the exam and can now ...    1.0\n",
              "1181  I'm disheartened that I didn't get the score I...    2.0\n",
              "1182  I'm scared that I won't be able to finish the ...    4.0\n",
              "1183  I'm stunned that I got a higher score on the e...    0.0\n",
              "1184  I'm irritated that the exam questions didn't c...    3.0\n",
              "\n",
              "[1142 rows x 2 columns]"
            ],
            "text/html": [
              "\n",
              "  <div id=\"df-33b3c15b-304b-4a37-b44c-8e0ecd9c671b\">\n",
              "    <div class=\"colab-df-container\">\n",
              "      <div>\n",
              "<style scoped>\n",
              "    .dataframe tbody tr th:only-of-type {\n",
              "        vertical-align: middle;\n",
              "    }\n",
              "\n",
              "    .dataframe tbody tr th {\n",
              "        vertical-align: top;\n",
              "    }\n",
              "\n",
              "    .dataframe thead th {\n",
              "        text-align: right;\n",
              "    }\n",
              "</style>\n",
              "<table border=\"1\" class=\"dataframe\">\n",
              "  <thead>\n",
              "    <tr style=\"text-align: right;\">\n",
              "      <th></th>\n",
              "      <th>Text</th>\n",
              "      <th>label</th>\n",
              "    </tr>\n",
              "  </thead>\n",
              "  <tbody>\n",
              "    <tr>\n",
              "      <th>0</th>\n",
              "      <td>I'm so cross I got a poor grade on the quiz</td>\n",
              "      <td>3.0</td>\n",
              "    </tr>\n",
              "    <tr>\n",
              "      <th>1</th>\n",
              "      <td>I'm so upset I couldn't do better on the exam</td>\n",
              "      <td>3.0</td>\n",
              "    </tr>\n",
              "    <tr>\n",
              "      <th>2</th>\n",
              "      <td>I'm so mad I didn't get the marks I was hoping...</td>\n",
              "      <td>3.0</td>\n",
              "    </tr>\n",
              "    <tr>\n",
              "      <th>3</th>\n",
              "      <td>I'm so furious I couldn't ace the test</td>\n",
              "      <td>3.0</td>\n",
              "    </tr>\n",
              "    <tr>\n",
              "      <th>4</th>\n",
              "      <td>I'm so irate I got a lower grade than I wanted</td>\n",
              "      <td>3.0</td>\n",
              "    </tr>\n",
              "    <tr>\n",
              "      <th>...</th>\n",
              "      <td>...</td>\n",
              "      <td>...</td>\n",
              "    </tr>\n",
              "    <tr>\n",
              "      <th>1180</th>\n",
              "      <td>I'm elated that I passed the exam and can now ...</td>\n",
              "      <td>1.0</td>\n",
              "    </tr>\n",
              "    <tr>\n",
              "      <th>1181</th>\n",
              "      <td>I'm disheartened that I didn't get the score I...</td>\n",
              "      <td>2.0</td>\n",
              "    </tr>\n",
              "    <tr>\n",
              "      <th>1182</th>\n",
              "      <td>I'm scared that I won't be able to finish the ...</td>\n",
              "      <td>4.0</td>\n",
              "    </tr>\n",
              "    <tr>\n",
              "      <th>1183</th>\n",
              "      <td>I'm stunned that I got a higher score on the e...</td>\n",
              "      <td>0.0</td>\n",
              "    </tr>\n",
              "    <tr>\n",
              "      <th>1184</th>\n",
              "      <td>I'm irritated that the exam questions didn't c...</td>\n",
              "      <td>3.0</td>\n",
              "    </tr>\n",
              "  </tbody>\n",
              "</table>\n",
              "<p>1142 rows × 2 columns</p>\n",
              "</div>\n",
              "      <button class=\"colab-df-convert\" onclick=\"convertToInteractive('df-33b3c15b-304b-4a37-b44c-8e0ecd9c671b')\"\n",
              "              title=\"Convert this dataframe to an interactive table.\"\n",
              "              style=\"display:none;\">\n",
              "        \n",
              "  <svg xmlns=\"http://www.w3.org/2000/svg\" height=\"24px\"viewBox=\"0 0 24 24\"\n",
              "       width=\"24px\">\n",
              "    <path d=\"M0 0h24v24H0V0z\" fill=\"none\"/>\n",
              "    <path d=\"M18.56 5.44l.94 2.06.94-2.06 2.06-.94-2.06-.94-.94-2.06-.94 2.06-2.06.94zm-11 1L8.5 8.5l.94-2.06 2.06-.94-2.06-.94L8.5 2.5l-.94 2.06-2.06.94zm10 10l.94 2.06.94-2.06 2.06-.94-2.06-.94-.94-2.06-.94 2.06-2.06.94z\"/><path d=\"M17.41 7.96l-1.37-1.37c-.4-.4-.92-.59-1.43-.59-.52 0-1.04.2-1.43.59L10.3 9.45l-7.72 7.72c-.78.78-.78 2.05 0 2.83L4 21.41c.39.39.9.59 1.41.59.51 0 1.02-.2 1.41-.59l7.78-7.78 2.81-2.81c.8-.78.8-2.07 0-2.86zM5.41 20L4 18.59l7.72-7.72 1.47 1.35L5.41 20z\"/>\n",
              "  </svg>\n",
              "      </button>\n",
              "      \n",
              "  <style>\n",
              "    .colab-df-container {\n",
              "      display:flex;\n",
              "      flex-wrap:wrap;\n",
              "      gap: 12px;\n",
              "    }\n",
              "\n",
              "    .colab-df-convert {\n",
              "      background-color: #E8F0FE;\n",
              "      border: none;\n",
              "      border-radius: 50%;\n",
              "      cursor: pointer;\n",
              "      display: none;\n",
              "      fill: #1967D2;\n",
              "      height: 32px;\n",
              "      padding: 0 0 0 0;\n",
              "      width: 32px;\n",
              "    }\n",
              "\n",
              "    .colab-df-convert:hover {\n",
              "      background-color: #E2EBFA;\n",
              "      box-shadow: 0px 1px 2px rgba(60, 64, 67, 0.3), 0px 1px 3px 1px rgba(60, 64, 67, 0.15);\n",
              "      fill: #174EA6;\n",
              "    }\n",
              "\n",
              "    [theme=dark] .colab-df-convert {\n",
              "      background-color: #3B4455;\n",
              "      fill: #D2E3FC;\n",
              "    }\n",
              "\n",
              "    [theme=dark] .colab-df-convert:hover {\n",
              "      background-color: #434B5C;\n",
              "      box-shadow: 0px 1px 3px 1px rgba(0, 0, 0, 0.15);\n",
              "      filter: drop-shadow(0px 1px 2px rgba(0, 0, 0, 0.3));\n",
              "      fill: #FFFFFF;\n",
              "    }\n",
              "  </style>\n",
              "\n",
              "      <script>\n",
              "        const buttonEl =\n",
              "          document.querySelector('#df-33b3c15b-304b-4a37-b44c-8e0ecd9c671b button.colab-df-convert');\n",
              "        buttonEl.style.display =\n",
              "          google.colab.kernel.accessAllowed ? 'block' : 'none';\n",
              "\n",
              "        async function convertToInteractive(key) {\n",
              "          const element = document.querySelector('#df-33b3c15b-304b-4a37-b44c-8e0ecd9c671b');\n",
              "          const dataTable =\n",
              "            await google.colab.kernel.invokeFunction('convertToInteractive',\n",
              "                                                     [key], {});\n",
              "          if (!dataTable) return;\n",
              "\n",
              "          const docLinkHtml = 'Like what you see? Visit the ' +\n",
              "            '<a target=\"_blank\" href=https://colab.research.google.com/notebooks/data_table.ipynb>data table notebook</a>'\n",
              "            + ' to learn more about interactive tables.';\n",
              "          element.innerHTML = '';\n",
              "          dataTable['output_type'] = 'display_data';\n",
              "          await google.colab.output.renderOutput(dataTable, element);\n",
              "          const docLink = document.createElement('div');\n",
              "          docLink.innerHTML = docLinkHtml;\n",
              "          element.appendChild(docLink);\n",
              "        }\n",
              "      </script>\n",
              "    </div>\n",
              "  </div>\n",
              "  "
            ]
          },
          "metadata": {},
          "execution_count": 44
        }
      ]
    },
    {
      "cell_type": "code",
      "source": [
        "\n",
        "df['label'] = df['label'].astype(int)\n",
        "label_counts = df['label'].value_counts()\n",
        "\n",
        "print(label_counts)\n"
      ],
      "metadata": {
        "colab": {
          "base_uri": "https://localhost:8080/"
        },
        "id": "-TH4IHJDIQb-",
        "outputId": "95860085-e3bc-41e9-f404-c62bdcd0c1af"
      },
      "execution_count": null,
      "outputs": [
        {
          "output_type": "stream",
          "name": "stdout",
          "text": [
            "1    328\n",
            "2    240\n",
            "0    209\n",
            "3    186\n",
            "4    179\n",
            "Name: label, dtype: int64\n"
          ]
        }
      ]
    },
    {
      "cell_type": "code",
      "source": [
        "# Define the file path and name\n",
        "csv_file_path = '/content/gdrive/MyDrive/EXAM EMOTIONS MODEL/preprocessed_Train.csv'  # replace with the actual file path and file name\n",
        "df.to_csv(csv_file_path, index=False)\n",
        "\n",
        "# Export the DataFrame to a CSV file\n",
        "print(f\"The DataFrame has been exported to {csv_file_path}\")"
      ],
      "metadata": {
        "colab": {
          "base_uri": "https://localhost:8080/"
        },
        "id": "MzHon0t-C6Wh",
        "outputId": "30eead48-566e-42d5-dbf2-6732a0a9c685"
      },
      "execution_count": null,
      "outputs": [
        {
          "output_type": "stream",
          "name": "stdout",
          "text": [
            "The DataFrame has been exported to /content/gdrive/MyDrive/EXAM EMOTIONS MODEL/preprocessed_Train.csv\n"
          ]
        }
      ]
    },
    {
      "cell_type": "code",
      "source": [
        "pip install transformers"
      ],
      "metadata": {
        "colab": {
          "base_uri": "https://localhost:8080/"
        },
        "id": "qj4r8X_rqgrB",
        "outputId": "2bc22d6e-2e5a-4e4d-d8a3-af4907c909b5"
      },
      "execution_count": null,
      "outputs": [
        {
          "output_type": "stream",
          "name": "stdout",
          "text": [
            "Looking in indexes: https://pypi.org/simple, https://us-python.pkg.dev/colab-wheels/public/simple/\n",
            "Collecting transformers\n",
            "  Downloading transformers-4.27.4-py3-none-any.whl (6.8 MB)\n",
            "\u001b[2K     \u001b[90m━━━━━━━━━━━━━━━━━━━━━━━━━━━━━━━━━━━━━━━━\u001b[0m \u001b[32m6.8/6.8 MB\u001b[0m \u001b[31m51.0 MB/s\u001b[0m eta \u001b[36m0:00:00\u001b[0m\n",
            "\u001b[?25hCollecting huggingface-hub<1.0,>=0.11.0\n",
            "  Downloading huggingface_hub-0.13.3-py3-none-any.whl (199 kB)\n",
            "\u001b[2K     \u001b[90m━━━━━━━━━━━━━━━━━━━━━━━━━━━━━━━━━━━━━━\u001b[0m \u001b[32m199.8/199.8 KB\u001b[0m \u001b[31m27.4 MB/s\u001b[0m eta \u001b[36m0:00:00\u001b[0m\n",
            "\u001b[?25hRequirement already satisfied: requests in /usr/local/lib/python3.9/dist-packages (from transformers) (2.27.1)\n",
            "Requirement already satisfied: pyyaml>=5.1 in /usr/local/lib/python3.9/dist-packages (from transformers) (6.0)\n",
            "Requirement already satisfied: filelock in /usr/local/lib/python3.9/dist-packages (from transformers) (3.10.7)\n",
            "Requirement already satisfied: tqdm>=4.27 in /usr/local/lib/python3.9/dist-packages (from transformers) (4.65.0)\n",
            "Requirement already satisfied: numpy>=1.17 in /usr/local/lib/python3.9/dist-packages (from transformers) (1.22.4)\n",
            "Requirement already satisfied: regex!=2019.12.17 in /usr/local/lib/python3.9/dist-packages (from transformers) (2022.10.31)\n",
            "Collecting tokenizers!=0.11.3,<0.14,>=0.11.1\n",
            "  Downloading tokenizers-0.13.2-cp39-cp39-manylinux_2_17_x86_64.manylinux2014_x86_64.whl (7.6 MB)\n",
            "\u001b[2K     \u001b[90m━━━━━━━━━━━━━━━━━━━━━━━━━━━━━━━━━━━━━━━━\u001b[0m \u001b[32m7.6/7.6 MB\u001b[0m \u001b[31m104.6 MB/s\u001b[0m eta \u001b[36m0:00:00\u001b[0m\n",
            "\u001b[?25hRequirement already satisfied: packaging>=20.0 in /usr/local/lib/python3.9/dist-packages (from transformers) (23.0)\n",
            "Requirement already satisfied: typing-extensions>=3.7.4.3 in /usr/local/lib/python3.9/dist-packages (from huggingface-hub<1.0,>=0.11.0->transformers) (4.5.0)\n",
            "Requirement already satisfied: urllib3<1.27,>=1.21.1 in /usr/local/lib/python3.9/dist-packages (from requests->transformers) (1.26.15)\n",
            "Requirement already satisfied: charset-normalizer~=2.0.0 in /usr/local/lib/python3.9/dist-packages (from requests->transformers) (2.0.12)\n",
            "Requirement already satisfied: certifi>=2017.4.17 in /usr/local/lib/python3.9/dist-packages (from requests->transformers) (2022.12.7)\n",
            "Requirement already satisfied: idna<4,>=2.5 in /usr/local/lib/python3.9/dist-packages (from requests->transformers) (3.4)\n",
            "Installing collected packages: tokenizers, huggingface-hub, transformers\n",
            "Successfully installed huggingface-hub-0.13.3 tokenizers-0.13.2 transformers-4.27.4\n"
          ]
        }
      ]
    },
    {
      "cell_type": "code",
      "source": [
        "# Load the CSV file into a Pandas dataframe\n",
        "df = pd.read_csv('/content/gdrive/MyDrive/EXAM EMOTIONS MODEL/preprocessed_Train.csv')\n",
        "\n",
        "df = df.loc[df['Text'].apply(lambda x: isinstance(x, str))]\n",
        "\n",
        "# print the updated DataFrame\n",
        "print(df)"
      ],
      "metadata": {
        "colab": {
          "base_uri": "https://localhost:8080/"
        },
        "id": "b6oZ_aKsEfaY",
        "outputId": "524120ae-be63-4395-fb67-846fc433e213"
      },
      "execution_count": null,
      "outputs": [
        {
          "output_type": "stream",
          "name": "stdout",
          "text": [
            "                                                   Text  label\n",
            "0           I'm so cross I got a poor grade on the quiz      3\n",
            "1         I'm so upset I couldn't do better on the exam      3\n",
            "2     I'm so mad I didn't get the marks I was hoping...      3\n",
            "3                I'm so furious I couldn't ace the test      3\n",
            "4        I'm so irate I got a lower grade than I wanted      3\n",
            "...                                                 ...    ...\n",
            "1137  I'm elated that I passed the exam and can now ...      1\n",
            "1138  I'm disheartened that I didn't get the score I...      2\n",
            "1139  I'm scared that I won't be able to finish the ...      4\n",
            "1140  I'm stunned that I got a higher score on the e...      0\n",
            "1141  I'm irritated that the exam questions didn't c...      3\n",
            "\n",
            "[1139 rows x 2 columns]\n"
          ]
        }
      ]
    },
    {
      "cell_type": "code",
      "source": [
        "import torch\n",
        "from sklearn.model_selection import train_test_split\n",
        "from transformers import RobertaTokenizer, RobertaForSequenceClassification, Trainer, TrainingArguments\n",
        "\n",
        "\n",
        "# Split the dataset into train, validation, and test sets\n",
        "train_df, test_df = train_test_split(df, test_size=0.2, random_state=42)\n",
        "train_df, val_df = train_test_split(train_df, test_size=0.2, random_state=42)\n",
        "\n",
        "# Load the tokenizer and encode the text data\n",
        "tokenizer = RobertaTokenizer.from_pretrained('roberta-large')\n",
        "train_encodings = tokenizer(train_df['Text'].tolist(), truncation=True, padding=True)\n",
        "val_encodings = tokenizer(val_df['Text'].tolist(), truncation=True, padding=True)\n",
        "test_encodings = tokenizer(test_df['Text'].tolist(), truncation=True, padding=True)\n",
        "\n",
        "# Convert the label data to PyTorch tensors\n",
        "train_labels = torch.tensor(train_df['label'].tolist())\n",
        "val_labels = torch.tensor(val_df['label'].tolist())\n",
        "test_labels = torch.tensor(test_df['label'].tolist())\n",
        "\n",
        "\n"
      ],
      "metadata": {
        "id": "C2roOcbrIqmL"
      },
      "execution_count": null,
      "outputs": []
    },
    {
      "cell_type": "code",
      "source": [
        "\n",
        "# Create the model\n",
        "model = RobertaForSequenceClassification.from_pretrained('roberta-large', num_labels=5)\n",
        "\n",
        "# Define the training arguments\n",
        "training_args = TrainingArguments(\n",
        "    output_dir='./results',\n",
        "    num_train_epochs=12,\n",
        "    per_device_train_batch_size=16,\n",
        "    per_device_eval_batch_size=64,\n",
        "    warmup_steps=500,\n",
        "    weight_decay=0.01,\n",
        "    logging_dir='./logs',\n",
        "    logging_steps=10,\n",
        "    evaluation_strategy='steps',\n",
        "    eval_steps=50,  # <-- change eval_steps\n",
        "    save_steps=50,  # <-- add save_steps parameter\n",
        "    save_total_limit=1,\n",
        "    load_best_model_at_end=True,\n",
        "    metric_for_best_model='eval_loss',\n",
        "    greater_is_better=False\n",
        ")\n",
        "\n"
      ],
      "metadata": {
        "colab": {
          "base_uri": "https://localhost:8080/",
          "height": 156,
          "referenced_widgets": [
            "d07e29b72d1848959467b246976cdfc6",
            "9424d2bc89a649a5aff72eaa0bb4e59a",
            "b55da341f5d3467382ef3760d7a3337a",
            "00eda6217a924165b0645bb56815f200",
            "57b98c12d9ee4be282a9249cbc1a31d1",
            "fa026cfe6dc74285a421b614adadfd5b",
            "e8a05ca4fd8541b8bfc45d42e186b25a",
            "9729d1edb0254ba5b25ec1650aeea11e",
            "4701f0068a814f9a9ecffe92de4a63e1",
            "b8e01a5bba9944f898a5acf89c9b1b6c",
            "ecffa12f1da1458c9bf601891f8269d5"
          ]
        },
        "id": "G1T_D6OIPUAl",
        "outputId": "b16fe7b4-d9f6-4728-93fd-a68250cb5968"
      },
      "execution_count": null,
      "outputs": [
        {
          "output_type": "display_data",
          "data": {
            "text/plain": [
              "Downloading pytorch_model.bin:   0%|          | 0.00/1.43G [00:00<?, ?B/s]"
            ],
            "application/vnd.jupyter.widget-view+json": {
              "version_major": 2,
              "version_minor": 0,
              "model_id": "d07e29b72d1848959467b246976cdfc6"
            }
          },
          "metadata": {}
        },
        {
          "output_type": "stream",
          "name": "stderr",
          "text": [
            "Some weights of the model checkpoint at roberta-large were not used when initializing RobertaForSequenceClassification: ['lm_head.layer_norm.weight', 'lm_head.decoder.weight', 'lm_head.dense.bias', 'lm_head.dense.weight', 'lm_head.layer_norm.bias', 'roberta.pooler.dense.bias', 'lm_head.bias', 'roberta.pooler.dense.weight']\n",
            "- This IS expected if you are initializing RobertaForSequenceClassification from the checkpoint of a model trained on another task or with another architecture (e.g. initializing a BertForSequenceClassification model from a BertForPreTraining model).\n",
            "- This IS NOT expected if you are initializing RobertaForSequenceClassification from the checkpoint of a model that you expect to be exactly identical (initializing a BertForSequenceClassification model from a BertForSequenceClassification model).\n",
            "Some weights of RobertaForSequenceClassification were not initialized from the model checkpoint at roberta-large and are newly initialized: ['classifier.out_proj.bias', 'classifier.out_proj.weight', 'classifier.dense.bias', 'classifier.dense.weight']\n",
            "You should probably TRAIN this model on a down-stream task to be able to use it for predictions and inference.\n"
          ]
        }
      ]
    },
    {
      "cell_type": "code",
      "source": [
        "unique_values_Label = df['Label'].unique()\n",
        "print(unique_values_Label)"
      ],
      "metadata": {
        "id": "1Hyy4-Y_yAxl"
      },
      "execution_count": null,
      "outputs": []
    },
    {
      "cell_type": "code",
      "source": [
        "# Define the Trainer object\n",
        "trainer = Trainer(\n",
        "    model=model,                                                    # the instantiated 🤗 Transformers model to be trained\n",
        "    args=training_args,                                             # training arguments, defined above\n",
        "    train_dataset=torch.utils.data.TensorDataset(torch.tensor(train_encodings['input_ids']), \n",
        "                                               torch.tensor(train_encodings['attention_mask']), \n",
        "                                               torch.tensor(train_labels)),\n",
        "    eval_dataset=torch.utils.data.TensorDataset(torch.tensor(val_encodings['input_ids']), \n",
        "                                               torch.tensor(val_encodings['attention_mask']), \n",
        "                                               torch.tensor(val_labels)),\n",
        "    data_collator=lambda data: {'input_ids': torch.stack([f[0] for f in data]), \n",
        "                                'attention_mask': torch.stack([f[1] for f in data]), \n",
        "                                'labels': torch.tensor([f[2] for f in data])},\n",
        "    # compute_metrics=lambda preds, labels: {'accuracy': (preds.argmax(axis=1) == labels).mean()}\n",
        ")\n"
      ],
      "metadata": {
        "colab": {
          "base_uri": "https://localhost:8080/"
        },
        "id": "up4Ym5xuPVrv",
        "outputId": "8510ff98-60b0-48fa-f5da-603ae1491416"
      },
      "execution_count": null,
      "outputs": [
        {
          "output_type": "stream",
          "name": "stderr",
          "text": [
            "<ipython-input-55-73903251dbeb>:7: UserWarning: To copy construct from a tensor, it is recommended to use sourceTensor.clone().detach() or sourceTensor.clone().detach().requires_grad_(True), rather than torch.tensor(sourceTensor).\n",
            "  torch.tensor(train_labels)),\n",
            "<ipython-input-55-73903251dbeb>:10: UserWarning: To copy construct from a tensor, it is recommended to use sourceTensor.clone().detach() or sourceTensor.clone().detach().requires_grad_(True), rather than torch.tensor(sourceTensor).\n",
            "  torch.tensor(val_labels)),\n"
          ]
        }
      ]
    },
    {
      "cell_type": "code",
      "source": [
        "# Fine-tune the model\n",
        "flag = False\n",
        "\n",
        "if torch.cuda.is_available():\n",
        "  trainer.train()\n",
        "  flag= True\n"
      ],
      "metadata": {
        "id": "j_nU9ffBPW-n",
        "colab": {
          "base_uri": "https://localhost:8080/",
          "height": 475
        },
        "outputId": "6e02a9f9-d07d-416d-9ca4-651cda67ee5f"
      },
      "execution_count": null,
      "outputs": [
        {
          "output_type": "stream",
          "name": "stderr",
          "text": [
            "/usr/local/lib/python3.9/dist-packages/transformers/optimization.py:391: FutureWarning: This implementation of AdamW is deprecated and will be removed in a future version. Use the PyTorch implementation torch.optim.AdamW instead, or set `no_deprecation_warning=True` to disable this warning\n",
            "  warnings.warn(\n"
          ]
        },
        {
          "output_type": "display_data",
          "data": {
            "text/plain": [
              "<IPython.core.display.HTML object>"
            ],
            "text/html": [
              "\n",
              "    <div>\n",
              "      \n",
              "      <progress value='552' max='552' style='width:300px; height:20px; vertical-align: middle;'></progress>\n",
              "      [552/552 07:11, Epoch 12/12]\n",
              "    </div>\n",
              "    <table border=\"1\" class=\"dataframe\">\n",
              "  <thead>\n",
              " <tr style=\"text-align: left;\">\n",
              "      <th>Step</th>\n",
              "      <th>Training Loss</th>\n",
              "      <th>Validation Loss</th>\n",
              "    </tr>\n",
              "  </thead>\n",
              "  <tbody>\n",
              "    <tr>\n",
              "      <td>50</td>\n",
              "      <td>1.599300</td>\n",
              "      <td>1.585793</td>\n",
              "    </tr>\n",
              "    <tr>\n",
              "      <td>100</td>\n",
              "      <td>1.452600</td>\n",
              "      <td>1.240462</td>\n",
              "    </tr>\n",
              "    <tr>\n",
              "      <td>150</td>\n",
              "      <td>0.089300</td>\n",
              "      <td>0.108022</td>\n",
              "    </tr>\n",
              "    <tr>\n",
              "      <td>200</td>\n",
              "      <td>0.042800</td>\n",
              "      <td>0.155961</td>\n",
              "    </tr>\n",
              "    <tr>\n",
              "      <td>250</td>\n",
              "      <td>0.043900</td>\n",
              "      <td>0.082721</td>\n",
              "    </tr>\n",
              "    <tr>\n",
              "      <td>300</td>\n",
              "      <td>0.028100</td>\n",
              "      <td>0.059135</td>\n",
              "    </tr>\n",
              "    <tr>\n",
              "      <td>350</td>\n",
              "      <td>0.012000</td>\n",
              "      <td>0.064510</td>\n",
              "    </tr>\n",
              "    <tr>\n",
              "      <td>400</td>\n",
              "      <td>0.081600</td>\n",
              "      <td>0.286876</td>\n",
              "    </tr>\n",
              "    <tr>\n",
              "      <td>450</td>\n",
              "      <td>0.025500</td>\n",
              "      <td>0.132257</td>\n",
              "    </tr>\n",
              "    <tr>\n",
              "      <td>500</td>\n",
              "      <td>0.086800</td>\n",
              "      <td>0.152975</td>\n",
              "    </tr>\n",
              "    <tr>\n",
              "      <td>550</td>\n",
              "      <td>0.151500</td>\n",
              "      <td>0.081205</td>\n",
              "    </tr>\n",
              "  </tbody>\n",
              "</table><p>"
            ]
          },
          "metadata": {}
        }
      ]
    },
    {
      "cell_type": "code",
      "source": [
        "if flag == True:\n",
        "  model.save_pretrained('/content/gdrive/MyDrive/EXAM EMOTIONS MODEL/myModel_better')"
      ],
      "metadata": {
        "id": "yjq36Go7bJE7"
      },
      "execution_count": null,
      "outputs": []
    },
    {
      "cell_type": "code",
      "source": [
        "if flag == False:\n",
        "  model = RobertaForSequenceClassification.from_pretrained('/content/gdrive/MyDrive/EXAM EMOTIONS MODEL/myModel_better')\n"
      ],
      "metadata": {
        "id": "ClHk__DTcKEH"
      },
      "execution_count": null,
      "outputs": []
    },
    {
      "cell_type": "code",
      "source": [
        "def predict_emotion_label(text: str) -> int:\n",
        "    device = torch.device(\"cuda\" if torch.cuda.is_available() else \"cpu\")\n",
        "    input_encoding = tokenizer.encode_plus(text,\n",
        "                                            truncation=True,\n",
        "                                            padding=True,\n",
        "                                            return_tensors='pt').to(device)\n",
        "    model.to(device)\n",
        "    outputs = model(input_ids=input_encoding['input_ids'],\n",
        "                    attention_mask=input_encoding['attention_mask']).logits.to('cpu')\n",
        "    predicted_label = torch.argmax(outputs, axis=1).item()\n",
        "    return predicted_label\n"
      ],
      "metadata": {
        "id": "S6L-8-KveJk5"
      },
      "execution_count": null,
      "outputs": []
    },
    {
      "cell_type": "code",
      "source": [
        "predict_emotion_label(\"I'm so frustrated with how poorly I did on this exam\")"
      ],
      "metadata": {
        "id": "Lr8NASdAT6zv",
        "colab": {
          "base_uri": "https://localhost:8080/"
        },
        "outputId": "f87229da-43f1-49ff-90d5-de54b34b7a1d"
      },
      "execution_count": null,
      "outputs": [
        {
          "output_type": "execute_result",
          "data": {
            "text/plain": [
              "3"
            ]
          },
          "metadata": {},
          "execution_count": 72
        }
      ]
    },
    {
      "cell_type": "code",
      "source": [
        "df = pd.read_csv('/content/gdrive/MyDrive/EXAM EMOTIONS MODEL/Test.csv')"
      ],
      "metadata": {
        "id": "8WvvFQsptNY9"
      },
      "execution_count": null,
      "outputs": []
    },
    {
      "cell_type": "code",
      "source": [
        "df"
      ],
      "metadata": {
        "id": "4y-1uV_vtPvH",
        "colab": {
          "base_uri": "https://localhost:8080/",
          "height": 424
        },
        "outputId": "1bd22e55-6abe-42e5-fec7-94d34d4391c0"
      },
      "execution_count": null,
      "outputs": [
        {
          "output_type": "execute_result",
          "data": {
            "text/plain": [
              "                                                  text emotion  label\n",
              "0    I studied all night for my exam and I still do...    fear      4\n",
              "1         I'm relieved that my exams are finally over.   happy      1\n",
              "2    I'm disappointed that I didn't score higher on...     sad      2\n",
              "3           I'm anxious about my final exam next week.    fear      4\n",
              "4    I'm proud of myself for passing my chemistry e...   happy      1\n",
              "..                                                 ...     ...    ...\n",
              "379  I'm feeling happy that I was able to pass my F...   happy      1\n",
              "380  I'm thrilled that I got accepted into the grad...   happy      1\n",
              "381  I'm so glad that I took the time to study for ...   happy      1\n",
              "382  I'm beaming with joy after finding out that I ...   happy      1\n",
              "383  I'm feeling so happy that I was able to demons...   happy      1\n",
              "\n",
              "[384 rows x 3 columns]"
            ],
            "text/html": [
              "\n",
              "  <div id=\"df-d62c64f4-467c-41bd-a25e-12164340a86c\">\n",
              "    <div class=\"colab-df-container\">\n",
              "      <div>\n",
              "<style scoped>\n",
              "    .dataframe tbody tr th:only-of-type {\n",
              "        vertical-align: middle;\n",
              "    }\n",
              "\n",
              "    .dataframe tbody tr th {\n",
              "        vertical-align: top;\n",
              "    }\n",
              "\n",
              "    .dataframe thead th {\n",
              "        text-align: right;\n",
              "    }\n",
              "</style>\n",
              "<table border=\"1\" class=\"dataframe\">\n",
              "  <thead>\n",
              "    <tr style=\"text-align: right;\">\n",
              "      <th></th>\n",
              "      <th>text</th>\n",
              "      <th>emotion</th>\n",
              "      <th>label</th>\n",
              "    </tr>\n",
              "  </thead>\n",
              "  <tbody>\n",
              "    <tr>\n",
              "      <th>0</th>\n",
              "      <td>I studied all night for my exam and I still do...</td>\n",
              "      <td>fear</td>\n",
              "      <td>4</td>\n",
              "    </tr>\n",
              "    <tr>\n",
              "      <th>1</th>\n",
              "      <td>I'm relieved that my exams are finally over.</td>\n",
              "      <td>happy</td>\n",
              "      <td>1</td>\n",
              "    </tr>\n",
              "    <tr>\n",
              "      <th>2</th>\n",
              "      <td>I'm disappointed that I didn't score higher on...</td>\n",
              "      <td>sad</td>\n",
              "      <td>2</td>\n",
              "    </tr>\n",
              "    <tr>\n",
              "      <th>3</th>\n",
              "      <td>I'm anxious about my final exam next week.</td>\n",
              "      <td>fear</td>\n",
              "      <td>4</td>\n",
              "    </tr>\n",
              "    <tr>\n",
              "      <th>4</th>\n",
              "      <td>I'm proud of myself for passing my chemistry e...</td>\n",
              "      <td>happy</td>\n",
              "      <td>1</td>\n",
              "    </tr>\n",
              "    <tr>\n",
              "      <th>...</th>\n",
              "      <td>...</td>\n",
              "      <td>...</td>\n",
              "      <td>...</td>\n",
              "    </tr>\n",
              "    <tr>\n",
              "      <th>379</th>\n",
              "      <td>I'm feeling happy that I was able to pass my F...</td>\n",
              "      <td>happy</td>\n",
              "      <td>1</td>\n",
              "    </tr>\n",
              "    <tr>\n",
              "      <th>380</th>\n",
              "      <td>I'm thrilled that I got accepted into the grad...</td>\n",
              "      <td>happy</td>\n",
              "      <td>1</td>\n",
              "    </tr>\n",
              "    <tr>\n",
              "      <th>381</th>\n",
              "      <td>I'm so glad that I took the time to study for ...</td>\n",
              "      <td>happy</td>\n",
              "      <td>1</td>\n",
              "    </tr>\n",
              "    <tr>\n",
              "      <th>382</th>\n",
              "      <td>I'm beaming with joy after finding out that I ...</td>\n",
              "      <td>happy</td>\n",
              "      <td>1</td>\n",
              "    </tr>\n",
              "    <tr>\n",
              "      <th>383</th>\n",
              "      <td>I'm feeling so happy that I was able to demons...</td>\n",
              "      <td>happy</td>\n",
              "      <td>1</td>\n",
              "    </tr>\n",
              "  </tbody>\n",
              "</table>\n",
              "<p>384 rows × 3 columns</p>\n",
              "</div>\n",
              "      <button class=\"colab-df-convert\" onclick=\"convertToInteractive('df-d62c64f4-467c-41bd-a25e-12164340a86c')\"\n",
              "              title=\"Convert this dataframe to an interactive table.\"\n",
              "              style=\"display:none;\">\n",
              "        \n",
              "  <svg xmlns=\"http://www.w3.org/2000/svg\" height=\"24px\"viewBox=\"0 0 24 24\"\n",
              "       width=\"24px\">\n",
              "    <path d=\"M0 0h24v24H0V0z\" fill=\"none\"/>\n",
              "    <path d=\"M18.56 5.44l.94 2.06.94-2.06 2.06-.94-2.06-.94-.94-2.06-.94 2.06-2.06.94zm-11 1L8.5 8.5l.94-2.06 2.06-.94-2.06-.94L8.5 2.5l-.94 2.06-2.06.94zm10 10l.94 2.06.94-2.06 2.06-.94-2.06-.94-.94-2.06-.94 2.06-2.06.94z\"/><path d=\"M17.41 7.96l-1.37-1.37c-.4-.4-.92-.59-1.43-.59-.52 0-1.04.2-1.43.59L10.3 9.45l-7.72 7.72c-.78.78-.78 2.05 0 2.83L4 21.41c.39.39.9.59 1.41.59.51 0 1.02-.2 1.41-.59l7.78-7.78 2.81-2.81c.8-.78.8-2.07 0-2.86zM5.41 20L4 18.59l7.72-7.72 1.47 1.35L5.41 20z\"/>\n",
              "  </svg>\n",
              "      </button>\n",
              "      \n",
              "  <style>\n",
              "    .colab-df-container {\n",
              "      display:flex;\n",
              "      flex-wrap:wrap;\n",
              "      gap: 12px;\n",
              "    }\n",
              "\n",
              "    .colab-df-convert {\n",
              "      background-color: #E8F0FE;\n",
              "      border: none;\n",
              "      border-radius: 50%;\n",
              "      cursor: pointer;\n",
              "      display: none;\n",
              "      fill: #1967D2;\n",
              "      height: 32px;\n",
              "      padding: 0 0 0 0;\n",
              "      width: 32px;\n",
              "    }\n",
              "\n",
              "    .colab-df-convert:hover {\n",
              "      background-color: #E2EBFA;\n",
              "      box-shadow: 0px 1px 2px rgba(60, 64, 67, 0.3), 0px 1px 3px 1px rgba(60, 64, 67, 0.15);\n",
              "      fill: #174EA6;\n",
              "    }\n",
              "\n",
              "    [theme=dark] .colab-df-convert {\n",
              "      background-color: #3B4455;\n",
              "      fill: #D2E3FC;\n",
              "    }\n",
              "\n",
              "    [theme=dark] .colab-df-convert:hover {\n",
              "      background-color: #434B5C;\n",
              "      box-shadow: 0px 1px 3px 1px rgba(0, 0, 0, 0.15);\n",
              "      filter: drop-shadow(0px 1px 2px rgba(0, 0, 0, 0.3));\n",
              "      fill: #FFFFFF;\n",
              "    }\n",
              "  </style>\n",
              "\n",
              "      <script>\n",
              "        const buttonEl =\n",
              "          document.querySelector('#df-d62c64f4-467c-41bd-a25e-12164340a86c button.colab-df-convert');\n",
              "        buttonEl.style.display =\n",
              "          google.colab.kernel.accessAllowed ? 'block' : 'none';\n",
              "\n",
              "        async function convertToInteractive(key) {\n",
              "          const element = document.querySelector('#df-d62c64f4-467c-41bd-a25e-12164340a86c');\n",
              "          const dataTable =\n",
              "            await google.colab.kernel.invokeFunction('convertToInteractive',\n",
              "                                                     [key], {});\n",
              "          if (!dataTable) return;\n",
              "\n",
              "          const docLinkHtml = 'Like what you see? Visit the ' +\n",
              "            '<a target=\"_blank\" href=https://colab.research.google.com/notebooks/data_table.ipynb>data table notebook</a>'\n",
              "            + ' to learn more about interactive tables.';\n",
              "          element.innerHTML = '';\n",
              "          dataTable['output_type'] = 'display_data';\n",
              "          await google.colab.output.renderOutput(dataTable, element);\n",
              "          const docLink = document.createElement('div');\n",
              "          docLink.innerHTML = docLinkHtml;\n",
              "          element.appendChild(docLink);\n",
              "        }\n",
              "      </script>\n",
              "    </div>\n",
              "  </div>\n",
              "  "
            ]
          },
          "metadata": {},
          "execution_count": 76
        }
      ]
    },
    {
      "cell_type": "code",
      "source": [
        "\n",
        "# Initialize the stemmer\n",
        "stemmer = PorterStemmer()\n",
        "\n",
        "# Define a function to stem a given string\n",
        "def stem_text(text):\n",
        "    words = nltk.word_tokenize(text)\n",
        "    return ' '.join([stemmer.stem(w) for w in words])\n",
        "\n",
        "# Loop over the 'emotion' column and apply stemming to each string\n",
        "for i in range(len(df)):\n",
        "    text = str(df['emotion'][i])\n",
        "    df.at[i, 'emotion'] = stem_text(text)\n",
        "\n",
        "# df = df.drop('intensity', axis = 1)\n",
        "# df\n",
        "\n",
        "print(df['emotion'].unique())\n",
        "# Create a dictionary to map emotions to labels\n",
        "emotion_labels = {'happi': 1, 'sad': 2, 'anger': 3, 'fear': 4, 'surpris': 0}\n",
        "\n",
        "# Map the emotions to labels\n",
        "df['label'] = df['emotion'].map(emotion_labels)\n",
        "\n",
        "# Drop rows with invalid emotions\n",
        "valid_emotions = list(emotion_labels.keys())\n",
        "df = df[df['emotion'].isin(valid_emotions)]\n",
        "\n",
        "# Drop the 'emotion' column\n",
        "df = df.drop('emotion', axis=1)\n",
        "\n",
        "# Print the resulting dataframe\n",
        "df\n",
        "\n",
        "df['label'] = df['label'].astype(int)\n",
        "label_counts = df['label'].value_counts()\n",
        "\n",
        "print(label_counts)\n",
        "from google.colab import drive\n",
        "import pandas as pd\n",
        "\n",
        "\n",
        "# Define the file path and name\n",
        "file_path = '/content/gdrive/MyDrive/EXAM EMOTIONS MODEL/Test_data.csv'\n",
        "\n",
        "\n",
        "# Export the DataFrame to a CSV file\n",
        "df.to_csv(file_path, index=False)\n",
        "\n"
      ],
      "metadata": {
        "id": "ii9WVWEstZkK",
        "colab": {
          "base_uri": "https://localhost:8080/"
        },
        "outputId": "c0195c2a-25d0-400d-ac0c-396e854a4449"
      },
      "execution_count": null,
      "outputs": [
        {
          "output_type": "stream",
          "name": "stdout",
          "text": [
            "['fear' 'happi' 'sad' 'anger' 'surpris']\n",
            "4    90\n",
            "1    88\n",
            "3    86\n",
            "2    79\n",
            "0    41\n",
            "Name: label, dtype: int64\n"
          ]
        }
      ]
    },
    {
      "cell_type": "code",
      "source": [
        "df = pd.read_csv('/content/gdrive/MyDrive/EXAM EMOTIONS MODEL/Test_data.csv')"
      ],
      "metadata": {
        "id": "vuxnczTutZso"
      },
      "execution_count": null,
      "outputs": []
    },
    {
      "cell_type": "code",
      "source": [
        "def predict_emotion(text):\n",
        "    device = torch.device(\"cuda\" if torch.cuda.is_available() else \"cpu\")\n",
        "    input_encoding = tokenizer.encode_plus(text,\n",
        "                                            truncation=True,\n",
        "                                            padding=True,\n",
        "                                            return_tensors='pt').to(device)\n",
        "    model.to(device)\n",
        "    outputs = model(input_ids=input_encoding['input_ids'],\n",
        "                    attention_mask=input_encoding['attention_mask']).logits.to('cpu')\n",
        "    predicted_label = torch.argmax(outputs, axis=1).item()\n",
        "    return predicted_label\n",
        "\n",
        "\n",
        "# Apply the predict_emotion function to each row of the dataframe\n",
        "predicted_labels = df['text'].apply(predict_emotion)\n",
        "\n",
        "# Calculate the accuracy by comparing the predicted labels to the actual labels\n",
        "accuracy = (predicted_labels == df['label']).mean()\n",
        "print(f\"Accuracy: {accuracy}\")\n"
      ],
      "metadata": {
        "id": "VlRuL9K2VGTX",
        "colab": {
          "base_uri": "https://localhost:8080/"
        },
        "outputId": "9dafe3f3-1bba-44f7-a818-6972e8fa831e"
      },
      "execution_count": null,
      "outputs": [
        {
          "output_type": "stream",
          "name": "stdout",
          "text": [
            "Accuracy: 0.9791666666666666\n"
          ]
        }
      ]
    },
    {
      "cell_type": "code",
      "source": [
        "#detect emotion \n",
        "def predict_emotion(text: str) -> int:\n",
        "    device = torch.device(\"cuda\" if torch.cuda.is_available() else \"cpu\")\n",
        "    input_encoding = tokenizer.encode_plus(text,\n",
        "                                            truncation=True,\n",
        "                                            padding=True,\n",
        "                                            return_tensors='pt').to(device)\n",
        "    model.to(device)\n",
        "    outputs = model(input_ids=input_encoding['input_ids'],\n",
        "                    attention_mask=input_encoding['attention_mask']).logits.to('cpu')\n",
        "    predicted_label = torch.argmax(outputs, axis=1).item()\n",
        "    \n",
        "    # Map the predicted label to the actual emotion\n",
        "    emotion_map = {0'surprise',1:'happy', 2:'sad', 3:'anger', 4:'fear'}\n",
        "    predicted_emotion = emotion_map[predicted_label]\n",
        "    \n",
        "    return predicted_emotion\n"
      ],
      "metadata": {
        "id": "QfyZudIfUm9W"
      },
      "execution_count": null,
      "outputs": []
    },
    {
      "cell_type": "code",
      "source": [
        "predict_emotion(\"How did I get an O grade in this subject, i hadn't even studied well!\")"
      ],
      "metadata": {
        "colab": {
          "base_uri": "https://localhost:8080/",
          "height": 35
        },
        "id": "vYXVMLQnMvCE",
        "outputId": "74e667fc-4d92-4284-e20f-508914be4b9b"
      },
      "execution_count": null,
      "outputs": [
        {
          "output_type": "execute_result",
          "data": {
            "text/plain": [
              "'surprise'"
            ],
            "application/vnd.google.colaboratory.intrinsic+json": {
              "type": "string"
            }
          },
          "metadata": {},
          "execution_count": 90
        }
      ]
    },
    {
      "cell_type": "code",
      "source": [
        "# if flag == True:\n",
        "#   def predict_emotion_label(text: str) -> int:\n",
        "#         input_encoding = tokenizer.encode_plus(text,\n",
        "#                                           truncation=True,\n",
        "#                                           padding=True,\n",
        "#                                           return_tensors='pt').to('cuda')\n",
        "\n",
        "#         # Move the input tensors to CPU device\n",
        "#         input_ids = input_encoding['input_ids'].cpu()\n",
        "#         attention_mask = input_encoding['attention_mask'].cpu()\n",
        "\n",
        "#         # Make the prediction\n",
        "#         outputs = model(input_ids=input_ids, attention_mask=attention_mask).logits.to('cpu')\n",
        "#         predicted_label = torch.argmax(outputs, axis=1).item()\n",
        "\n",
        "\n",
        "#         return predicted_label\n"
      ],
      "metadata": {
        "id": "q8NFscRwTzfL"
      },
      "execution_count": null,
      "outputs": []
    },
    {
      "cell_type": "code",
      "source": [
        "#prev traing parameters# # Create the model\n",
        "\n",
        "# model = RobertaForSequenceClassification.from_pretrained('roberta-large', num_labels=5)\n",
        "\n",
        "# # Define the training arguments\n",
        "# training_args = TrainingArguments(\n",
        "#     output_dir='./results',\n",
        "#     num_train_epochs= 20,\n",
        "#     per_device_train_batch_size=16,\n",
        "#     per_device_eval_batch_size=64,\n",
        "#     warmup_steps=500,\n",
        "#     weight_decay=0.01,\n",
        "#     logging_dir='./logs',\n",
        "#     logging_steps=10,\n",
        "#     evaluation_strategy='steps',\n",
        "#     eval_steps=500,\n",
        "#     save_total_limit=1,\n",
        "#     load_best_model_at_end=True,\n",
        "#     metric_for_best_model='eval_loss',\n",
        "#     greater_is_better=False\n",
        "# )\n",
        "# training_args = TrainingArguments(\n",
        "#     output_dir='./results',\n",
        "#     num_train_epochs=20,\n",
        "#     per_device_train_batch_size=16,\n",
        "#     per_device_eval_batch_size=64,\n",
        "#     warmup_steps=500,\n",
        "#     weight_decay=0.01,\n",
        "#     logging_dir='./logs',\n",
        "#     logging_steps=10,\n",
        "#     evaluation_strategy='steps',\n",
        "#     eval_steps=800,  # <-- change eval_steps to 500\n",
        "#     save_steps=1600,  # <-- add save_steps parameter\n",
        "#     save_total_limit=1,\n",
        "#     load_best_model_at_end=True,\n",
        "#     metric_for_best_model='eval_loss',\n",
        "#     greater_is_better=False\n",
        "# )"
      ],
      "metadata": {
        "id": "VDctype1R7fY"
      },
      "execution_count": null,
      "outputs": []
    }
  ],
  "metadata": {
    "accelerator": "GPU",
    "colab": {
      "provenance": []
    },
    "gpuClass": "standard",
    "kernelspec": {
      "display_name": "Python 3",
      "name": "python3"
    },
    "language_info": {
      "name": "python"
    },
    "widgets": {
      "application/vnd.jupyter.widget-state+json": {
        "d07e29b72d1848959467b246976cdfc6": {
          "model_module": "@jupyter-widgets/controls",
          "model_name": "HBoxModel",
          "model_module_version": "1.5.0",
          "state": {
            "_dom_classes": [],
            "_model_module": "@jupyter-widgets/controls",
            "_model_module_version": "1.5.0",
            "_model_name": "HBoxModel",
            "_view_count": null,
            "_view_module": "@jupyter-widgets/controls",
            "_view_module_version": "1.5.0",
            "_view_name": "HBoxView",
            "box_style": "",
            "children": [
              "IPY_MODEL_9424d2bc89a649a5aff72eaa0bb4e59a",
              "IPY_MODEL_b55da341f5d3467382ef3760d7a3337a",
              "IPY_MODEL_00eda6217a924165b0645bb56815f200"
            ],
            "layout": "IPY_MODEL_57b98c12d9ee4be282a9249cbc1a31d1"
          }
        },
        "9424d2bc89a649a5aff72eaa0bb4e59a": {
          "model_module": "@jupyter-widgets/controls",
          "model_name": "HTMLModel",
          "model_module_version": "1.5.0",
          "state": {
            "_dom_classes": [],
            "_model_module": "@jupyter-widgets/controls",
            "_model_module_version": "1.5.0",
            "_model_name": "HTMLModel",
            "_view_count": null,
            "_view_module": "@jupyter-widgets/controls",
            "_view_module_version": "1.5.0",
            "_view_name": "HTMLView",
            "description": "",
            "description_tooltip": null,
            "layout": "IPY_MODEL_fa026cfe6dc74285a421b614adadfd5b",
            "placeholder": "​",
            "style": "IPY_MODEL_e8a05ca4fd8541b8bfc45d42e186b25a",
            "value": "Downloading pytorch_model.bin: 100%"
          }
        },
        "b55da341f5d3467382ef3760d7a3337a": {
          "model_module": "@jupyter-widgets/controls",
          "model_name": "FloatProgressModel",
          "model_module_version": "1.5.0",
          "state": {
            "_dom_classes": [],
            "_model_module": "@jupyter-widgets/controls",
            "_model_module_version": "1.5.0",
            "_model_name": "FloatProgressModel",
            "_view_count": null,
            "_view_module": "@jupyter-widgets/controls",
            "_view_module_version": "1.5.0",
            "_view_name": "ProgressView",
            "bar_style": "success",
            "description": "",
            "description_tooltip": null,
            "layout": "IPY_MODEL_9729d1edb0254ba5b25ec1650aeea11e",
            "max": 1425941629,
            "min": 0,
            "orientation": "horizontal",
            "style": "IPY_MODEL_4701f0068a814f9a9ecffe92de4a63e1",
            "value": 1425941629
          }
        },
        "00eda6217a924165b0645bb56815f200": {
          "model_module": "@jupyter-widgets/controls",
          "model_name": "HTMLModel",
          "model_module_version": "1.5.0",
          "state": {
            "_dom_classes": [],
            "_model_module": "@jupyter-widgets/controls",
            "_model_module_version": "1.5.0",
            "_model_name": "HTMLModel",
            "_view_count": null,
            "_view_module": "@jupyter-widgets/controls",
            "_view_module_version": "1.5.0",
            "_view_name": "HTMLView",
            "description": "",
            "description_tooltip": null,
            "layout": "IPY_MODEL_b8e01a5bba9944f898a5acf89c9b1b6c",
            "placeholder": "​",
            "style": "IPY_MODEL_ecffa12f1da1458c9bf601891f8269d5",
            "value": " 1.43G/1.43G [00:18&lt;00:00, 59.8MB/s]"
          }
        },
        "57b98c12d9ee4be282a9249cbc1a31d1": {
          "model_module": "@jupyter-widgets/base",
          "model_name": "LayoutModel",
          "model_module_version": "1.2.0",
          "state": {
            "_model_module": "@jupyter-widgets/base",
            "_model_module_version": "1.2.0",
            "_model_name": "LayoutModel",
            "_view_count": null,
            "_view_module": "@jupyter-widgets/base",
            "_view_module_version": "1.2.0",
            "_view_name": "LayoutView",
            "align_content": null,
            "align_items": null,
            "align_self": null,
            "border": null,
            "bottom": null,
            "display": null,
            "flex": null,
            "flex_flow": null,
            "grid_area": null,
            "grid_auto_columns": null,
            "grid_auto_flow": null,
            "grid_auto_rows": null,
            "grid_column": null,
            "grid_gap": null,
            "grid_row": null,
            "grid_template_areas": null,
            "grid_template_columns": null,
            "grid_template_rows": null,
            "height": null,
            "justify_content": null,
            "justify_items": null,
            "left": null,
            "margin": null,
            "max_height": null,
            "max_width": null,
            "min_height": null,
            "min_width": null,
            "object_fit": null,
            "object_position": null,
            "order": null,
            "overflow": null,
            "overflow_x": null,
            "overflow_y": null,
            "padding": null,
            "right": null,
            "top": null,
            "visibility": null,
            "width": null
          }
        },
        "fa026cfe6dc74285a421b614adadfd5b": {
          "model_module": "@jupyter-widgets/base",
          "model_name": "LayoutModel",
          "model_module_version": "1.2.0",
          "state": {
            "_model_module": "@jupyter-widgets/base",
            "_model_module_version": "1.2.0",
            "_model_name": "LayoutModel",
            "_view_count": null,
            "_view_module": "@jupyter-widgets/base",
            "_view_module_version": "1.2.0",
            "_view_name": "LayoutView",
            "align_content": null,
            "align_items": null,
            "align_self": null,
            "border": null,
            "bottom": null,
            "display": null,
            "flex": null,
            "flex_flow": null,
            "grid_area": null,
            "grid_auto_columns": null,
            "grid_auto_flow": null,
            "grid_auto_rows": null,
            "grid_column": null,
            "grid_gap": null,
            "grid_row": null,
            "grid_template_areas": null,
            "grid_template_columns": null,
            "grid_template_rows": null,
            "height": null,
            "justify_content": null,
            "justify_items": null,
            "left": null,
            "margin": null,
            "max_height": null,
            "max_width": null,
            "min_height": null,
            "min_width": null,
            "object_fit": null,
            "object_position": null,
            "order": null,
            "overflow": null,
            "overflow_x": null,
            "overflow_y": null,
            "padding": null,
            "right": null,
            "top": null,
            "visibility": null,
            "width": null
          }
        },
        "e8a05ca4fd8541b8bfc45d42e186b25a": {
          "model_module": "@jupyter-widgets/controls",
          "model_name": "DescriptionStyleModel",
          "model_module_version": "1.5.0",
          "state": {
            "_model_module": "@jupyter-widgets/controls",
            "_model_module_version": "1.5.0",
            "_model_name": "DescriptionStyleModel",
            "_view_count": null,
            "_view_module": "@jupyter-widgets/base",
            "_view_module_version": "1.2.0",
            "_view_name": "StyleView",
            "description_width": ""
          }
        },
        "9729d1edb0254ba5b25ec1650aeea11e": {
          "model_module": "@jupyter-widgets/base",
          "model_name": "LayoutModel",
          "model_module_version": "1.2.0",
          "state": {
            "_model_module": "@jupyter-widgets/base",
            "_model_module_version": "1.2.0",
            "_model_name": "LayoutModel",
            "_view_count": null,
            "_view_module": "@jupyter-widgets/base",
            "_view_module_version": "1.2.0",
            "_view_name": "LayoutView",
            "align_content": null,
            "align_items": null,
            "align_self": null,
            "border": null,
            "bottom": null,
            "display": null,
            "flex": null,
            "flex_flow": null,
            "grid_area": null,
            "grid_auto_columns": null,
            "grid_auto_flow": null,
            "grid_auto_rows": null,
            "grid_column": null,
            "grid_gap": null,
            "grid_row": null,
            "grid_template_areas": null,
            "grid_template_columns": null,
            "grid_template_rows": null,
            "height": null,
            "justify_content": null,
            "justify_items": null,
            "left": null,
            "margin": null,
            "max_height": null,
            "max_width": null,
            "min_height": null,
            "min_width": null,
            "object_fit": null,
            "object_position": null,
            "order": null,
            "overflow": null,
            "overflow_x": null,
            "overflow_y": null,
            "padding": null,
            "right": null,
            "top": null,
            "visibility": null,
            "width": null
          }
        },
        "4701f0068a814f9a9ecffe92de4a63e1": {
          "model_module": "@jupyter-widgets/controls",
          "model_name": "ProgressStyleModel",
          "model_module_version": "1.5.0",
          "state": {
            "_model_module": "@jupyter-widgets/controls",
            "_model_module_version": "1.5.0",
            "_model_name": "ProgressStyleModel",
            "_view_count": null,
            "_view_module": "@jupyter-widgets/base",
            "_view_module_version": "1.2.0",
            "_view_name": "StyleView",
            "bar_color": null,
            "description_width": ""
          }
        },
        "b8e01a5bba9944f898a5acf89c9b1b6c": {
          "model_module": "@jupyter-widgets/base",
          "model_name": "LayoutModel",
          "model_module_version": "1.2.0",
          "state": {
            "_model_module": "@jupyter-widgets/base",
            "_model_module_version": "1.2.0",
            "_model_name": "LayoutModel",
            "_view_count": null,
            "_view_module": "@jupyter-widgets/base",
            "_view_module_version": "1.2.0",
            "_view_name": "LayoutView",
            "align_content": null,
            "align_items": null,
            "align_self": null,
            "border": null,
            "bottom": null,
            "display": null,
            "flex": null,
            "flex_flow": null,
            "grid_area": null,
            "grid_auto_columns": null,
            "grid_auto_flow": null,
            "grid_auto_rows": null,
            "grid_column": null,
            "grid_gap": null,
            "grid_row": null,
            "grid_template_areas": null,
            "grid_template_columns": null,
            "grid_template_rows": null,
            "height": null,
            "justify_content": null,
            "justify_items": null,
            "left": null,
            "margin": null,
            "max_height": null,
            "max_width": null,
            "min_height": null,
            "min_width": null,
            "object_fit": null,
            "object_position": null,
            "order": null,
            "overflow": null,
            "overflow_x": null,
            "overflow_y": null,
            "padding": null,
            "right": null,
            "top": null,
            "visibility": null,
            "width": null
          }
        },
        "ecffa12f1da1458c9bf601891f8269d5": {
          "model_module": "@jupyter-widgets/controls",
          "model_name": "DescriptionStyleModel",
          "model_module_version": "1.5.0",
          "state": {
            "_model_module": "@jupyter-widgets/controls",
            "_model_module_version": "1.5.0",
            "_model_name": "DescriptionStyleModel",
            "_view_count": null,
            "_view_module": "@jupyter-widgets/base",
            "_view_module_version": "1.2.0",
            "_view_name": "StyleView",
            "description_width": ""
          }
        }
      }
    }
  },
  "nbformat": 4,
  "nbformat_minor": 0
}